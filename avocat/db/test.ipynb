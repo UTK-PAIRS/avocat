{
 "cells": [
  {
   "cell_type": "code",
   "execution_count": 77,
   "metadata": {},
   "outputs": [
    {
     "ename": "ModuleNotFoundError",
     "evalue": "No module named 'avocat'",
     "output_type": "error",
     "traceback": [
      "\u001b[1;31m---------------------------------------------------------------------------\u001b[0m",
      "\u001b[1;31mModuleNotFoundError\u001b[0m                       Traceback (most recent call last)",
      "\u001b[1;32m~\\AppData\\Local\\Temp/ipykernel_11144/2053637885.py\u001b[0m in \u001b[0;36m<module>\u001b[1;34m\u001b[0m\n\u001b[0;32m      1\u001b[0m \u001b[1;32mfrom\u001b[0m \u001b[0mimportlib\u001b[0m \u001b[1;32mimport\u001b[0m \u001b[0mreload\u001b[0m\u001b[1;33m\u001b[0m\u001b[1;33m\u001b[0m\u001b[0m\n\u001b[1;32m----> 2\u001b[1;33m \u001b[1;32mimport\u001b[0m \u001b[0m__init__\u001b[0m\u001b[1;33m\u001b[0m\u001b[1;33m\u001b[0m\u001b[0m\n\u001b[0m",
      "\u001b[1;32me:\\linhome\\Projects\\avocat\\avocat\\db\\__init__.py\u001b[0m in \u001b[0;36m<module>\u001b[1;34m\u001b[0m\n\u001b[1;32m----> 1\u001b[1;33m \u001b[1;32mimport\u001b[0m \u001b[0mavocat\u001b[0m\u001b[1;33m.\u001b[0m\u001b[0mact\u001b[0m \u001b[1;32mas\u001b[0m \u001b[0mact\u001b[0m\u001b[1;33m\u001b[0m\u001b[1;33m\u001b[0m\u001b[0m\n\u001b[0m\u001b[0;32m      2\u001b[0m \u001b[1;32mfrom\u001b[0m \u001b[0mcollections\u001b[0m \u001b[1;32mimport\u001b[0m \u001b[0mdefaultdict\u001b[0m\u001b[1;33m\u001b[0m\u001b[1;33m\u001b[0m\u001b[0m\n\u001b[0;32m      3\u001b[0m \u001b[1;32mimport\u001b[0m \u001b[0mapi\u001b[0m\u001b[1;33m\u001b[0m\u001b[1;33m\u001b[0m\u001b[0m\n\u001b[0;32m      4\u001b[0m \u001b[1;33m\u001b[0m\u001b[0m\n\u001b[0;32m      5\u001b[0m \u001b[1;32mdef\u001b[0m \u001b[0mfind_sol\u001b[0m\u001b[1;33m(\u001b[0m\u001b[0mout\u001b[0m\u001b[1;33m,\u001b[0m \u001b[0merr\u001b[0m\u001b[1;33m,\u001b[0m \u001b[0margv\u001b[0m\u001b[1;33m)\u001b[0m\u001b[1;33m:\u001b[0m\u001b[1;33m\u001b[0m\u001b[1;33m\u001b[0m\u001b[0m\n",
      "\u001b[1;31mModuleNotFoundError\u001b[0m: No module named 'avocat'"
     ]
    }
   ],
   "source": [
    "from importlib import reload\n",
    "import api"
   ]
  },
  {
   "cell_type": "code",
   "execution_count": 69,
   "metadata": {},
   "outputs": [
    {
     "name": "stdout",
     "output_type": "stream",
     "text": [
      "https://api.stackexchange.com/2.3/search/advanced?order=desc&sort=votes&q=pip&tagged=python&site=askubuntu&answers=1&filter=withbody&key=d3qKMek1GCXs8ED6ee6ANA((\n"
     ]
    }
   ],
   "source": [
    "reload(api)\n",
    "result = api.querySO(query=\"pip\", tags=[\"python\"])"
   ]
  },
  {
   "cell_type": "code",
   "execution_count": 70,
   "metadata": {},
   "outputs": [
    {
     "name": "stdout",
     "output_type": "stream",
     "text": [
      "https://api.stackexchange.com/2.3/questions/1025189;431780;778052;712339;173323;1239829;981118;802544;279959;499714;1165360;672808;851401;359254;1296790;363300;21027;1061486;104514;182313;644911;1187358;1268833;561377;642533;785602;879437;969463;103469;250442/answers?order=desc&sort=activity&site=askubuntu&filter=withbody&key=d3qKMek1GCXs8ED6ee6ANA((\n"
     ]
    }
   ],
   "source": [
    "result = api.getAnswers(result)"
   ]
  },
  {
   "cell_type": "code",
   "execution_count": 74,
   "metadata": {},
   "outputs": [
    {
     "data": {
      "text/plain": [
       "[['pip',\n",
       "  'pip3',\n",
       "  '$ ~ pip3 -V',\n",
       "  'Traceback (most recent call last):',\n",
       "  '  File &quot;/usr/local/bin/pip&quot;, line 7, in &lt;module&gt;',\n",
       "  '    from pip._internal import main',\n",
       "  \"ModuleNotFoundError: No module named 'pip._internal'\",\n",
       "  'curl https://bootstrap.pypa.io/get-pip.py -o get-pip.py',\n",
       "  'python3 get-pip.py --force-reinstall',\n",
       "  '$ ~ pip3 -V',\n",
       "  'pip 10.0.1 from /usr/local/lib/python3.6/site-packages/pip (python 3.6)',\n",
       "  'pip3 install &lt;package&gt;',\n",
       "  'pip3 install --user &lt;package&gt;',\n",
       "  'curl https://bootstrap.pypa.io/pip/2.7/get-pip.py -o get-pip.py',\n",
       "  'python get-pip.py --force-reinstall'],\n",
       " ['python2 -m pip install --user --upgrade pip',\n",
       "  'python3 -m pip install --user --upgrade pip'],\n",
       " ['pip', 'sudo easy_install pip'],\n",
       " ['pip', '-H', 'sudo -H python3.7 get-pip.py --force-reinstall']]"
      ]
     },
     "execution_count": 74,
     "metadata": {},
     "output_type": "execute_result"
    }
   ],
   "source": [
    "[a.code for a in result[1025189].answers]"
   ]
  }
 ],
 "metadata": {
  "interpreter": {
   "hash": "4dc49a575c90e45e6bb3ee52c7884dc30d301d2abcc54a100d86c83ea75b10ae"
  },
  "kernelspec": {
   "display_name": "Python 3.9.6 64-bit ('vqgan': conda)",
   "language": "python",
   "name": "python3"
  },
  "language_info": {
   "codemirror_mode": {
    "name": "ipython",
    "version": 3
   },
   "file_extension": ".py",
   "mimetype": "text/x-python",
   "name": "python",
   "nbconvert_exporter": "python",
   "pygments_lexer": "ipython3",
   "version": "3.8.12"
  },
  "orig_nbformat": 4
 },
 "nbformat": 4,
 "nbformat_minor": 2
}
